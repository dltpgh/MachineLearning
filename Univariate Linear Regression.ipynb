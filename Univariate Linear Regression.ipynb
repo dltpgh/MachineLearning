{
 "cells": [
  {
   "cell_type": "code",
   "execution_count": 7,
   "id": "0498e3ea",
   "metadata": {},
   "outputs": [],
   "source": [
    "import numpy as np\n",
    "import warnings\n",
    "warnings.filterwarnings('ignore')\n",
    "\n",
    "\n",
    "# y = 1 + 2x\n",
    "\n",
    "np.random.seed(42)\n",
    "X = np.random.rand(100, 1)\n",
    "y = 1 + 2 * X + .1 * np.random.randn(100, 1)\n",
    "\n",
    "# Shuffles the indices\n",
    "idx = np.arange(100)\n",
    "np.random.shuffle(idx)\n",
    "\n",
    "# Uses first 80 random indices for train\n",
    "train_idx = idx[:80]\n",
    "\n",
    "# Uses the ramaining indices for validation\n",
    "val_idx = idx[80:]\n",
    "\n",
    "# Generates train and validation sets\n",
    "X_train, y_train = X[train_idx], y[train_idx]\n",
    "X_val, y_val = X[val_idx], y[val_idx]"
   ]
  },
  {
   "cell_type": "code",
   "execution_count": 8,
   "id": "acf59e07",
   "metadata": {},
   "outputs": [
    {
     "data": {
      "image/png": "[encoded data removed]",
      "text/plain": [
       "<Figure size 432x288 with 1 Axes>"
      ]
     },
     "metadata": {
      "needs_background": "light"
     },
     "output_type": "display_data"
    }
   ],
   "source": [
    "# Plot\n",
    "import matplotlib.pyplot as plt\n",
    "\n",
    "fig, ax = plt.subplots()\n",
    "\n",
    "ax.scatter(X_train, y_train, color = 'C0', label = 'train', alpha = 0.5)\n",
    "ax.scatter(X_val, y_val, color = 'C1', label = 'validation', alpha = 0.5)\n",
    "ax.legend()\n",
    "ax.grid(True)\n",
    "fig.show()"
   ]
  },
  {
   "cell_type": "markdown",
   "id": "18198dec",
   "metadata": {},
   "source": [
    "### Linear Regression with Numpy"
   ]
  },
  {
   "cell_type": "code",
   "execution_count": 10,
   "id": "287607c0",
   "metadata": {},
   "outputs": [
    {
     "name": "stdout",
     "output_type": "stream",
     "text": [
      "[0.49671415] [-0.1382643]\n",
      "[1.02354094] [1.96896411]\n",
      "[1.02354075] [1.96896447]\n"
     ]
    }
   ],
   "source": [
    "np.random.seed(42)\n",
    "a = np.random.randn(1)\n",
    "b = np.random.randn(1)\n",
    "\n",
    "print(a, b)\n",
    "\n",
    "# Sets learning rate\n",
    "lr = 1e-1\n",
    "\n",
    "# Defines number of epochs\n",
    "n_epochs = 1000\n",
    "\n",
    "for epoch in range(n_epochs):\n",
    "    \n",
    "    # Computes our model's predicted output\n",
    "    yhat = a + b * X_train\n",
    "    \n",
    "    # Computes our model? That's the error!\n",
    "    error = (y_train - yhat)\n",
    "    # It is a regression, so it computes mean squared error(MSE)\n",
    "    loss = (error ** 2).mean()\n",
    "    \n",
    "    # Computes gradients for both \"a\" and \"b\" parameters\n",
    "    a_grad = -2 * error.mean()\n",
    "    b_grad = -2 * (X_train * error).mean()\n",
    "    \n",
    "    # Updates parameters using gradients and the learning rate\n",
    "    a = a - lr * a_grad\n",
    "    b = b - lr * b_grad\n",
    "    \n",
    "print(a, b)\n",
    "\n",
    "from sklearn.linear_model import LinearRegression\n",
    "linr = LinearRegression()\n",
    "linr.fit(X_train, y_train)\n",
    "print(linr.intercept_, linr.coef_[0])"
   ]
  },
  {
   "cell_type": "markdown",
   "id": "a0b0b582",
   "metadata": {},
   "source": [
    "### Loading Data, Devices, and CUDA"
   ]
  },
  {
   "cell_type": "code",
   "execution_count": 11,
   "id": "57e0ddfa",
   "metadata": {},
   "outputs": [],
   "source": [
    "import torch\n",
    "device = 'cuda' if torch.cuda.is_available() else 'cpu'\n",
    "\n",
    "X_train_tensor = torch.from_numpy(X_train).float().to(device)\n",
    "y_train_tensor = torch.from_numpy(y_train).float().to(device)"
   ]
  },
  {
   "cell_type": "markdown",
   "id": "a2c3ca98",
   "metadata": {},
   "source": [
    "### Creating Parameters"
   ]
  },
  {
   "cell_type": "markdown",
   "id": "9c76fa62",
   "metadata": {},
   "source": [
    "#### Bad Example"
   ]
  },
  {
   "cell_type": "code",
   "execution_count": 12,
   "id": "846d7b5a",
   "metadata": {},
   "outputs": [
    {
     "name": "stdout",
     "output_type": "stream",
     "text": [
      "tensor([-0.9079], requires_grad=True) tensor([-0.5149], requires_grad=True)\n"
     ]
    }
   ],
   "source": [
    "a = torch.randn(1, requires_grad = True, dtype = torch.float).to(device)\n",
    "b = torch.randn(1, requires_grad = True, dtype = torch.float).to(device)\n",
    "print(a, b)"
   ]
  },
  {
   "cell_type": "markdown",
   "id": "192e2759",
   "metadata": {},
   "source": [
    "#### Working Example"
   ]
  },
  {
   "cell_type": "code",
   "execution_count": 13,
   "id": "aab003df",
   "metadata": {},
   "outputs": [
    {
     "name": "stdout",
     "output_type": "stream",
     "text": [
      "tensor([1.1507], requires_grad=True) tensor([0.5742], requires_grad=True)\n"
     ]
    }
   ],
   "source": [
    "a = torch.randn(1, dtype = torch.float).to(device)\n",
    "b = torch.randn(1, dtype = torch.float).to(device)\n",
    "\n",
    "a.requires_grad_()\n",
    "b.requires_grad_()\n",
    "print(a, b)"
   ]
  },
  {
   "cell_type": "markdown",
   "id": "601cb15b",
   "metadata": {},
   "source": [
    "#### Good Example"
   ]
  },
  {
   "cell_type": "code",
   "execution_count": 15,
   "id": "6e7bfcd9",
   "metadata": {},
   "outputs": [
    {
     "name": "stdout",
     "output_type": "stream",
     "text": [
      "tensor([-1.3140], requires_grad=True) tensor([0.4153], requires_grad=True)\n"
     ]
    }
   ],
   "source": [
    "a = torch.randn(1, requires_grad = True, dtype = torch.float, device = device)\n",
    "b = torch.randn(1, requires_grad = True, dtype = torch.float, device = device)\n",
    "print(a, b)"
   ]
  },
  {
   "cell_type": "code",
   "execution_count": null,
   "id": "e6e54ab7",
   "metadata": {},
   "outputs": [],
   "source": []
  }
 ],
 "metadata": {
  "kernelspec": {
   "display_name": "Python 3",
   "language": "python",
   "name": "python3"
  },
  "language_info": {
   "codemirror_mode": {
    "name": "ipython",
    "version": 3
   },
   "file_extension": ".py",
   "mimetype": "text/x-python",
   "name": "python",
   "nbconvert_exporter": "python",
   "pygments_lexer": "ipython3",
   "version": "3.8.8"
  },
  "toc": {
   "base_numbering": 1,
   "nav_menu": {},
   "number_sections": true,
   "sideBar": true,
   "skip_h1_title": false,
   "title_cell": "Table of Contents",
   "title_sidebar": "Contents",
   "toc_cell": false,
   "toc_position": {},
   "toc_section_display": true,
   "toc_window_display": false
  }
 },
 "nbformat": 4,
 "nbformat_minor": 5
}
